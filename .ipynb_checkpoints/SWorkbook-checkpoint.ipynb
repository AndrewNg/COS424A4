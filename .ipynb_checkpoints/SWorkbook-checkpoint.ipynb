{
 "cells": [
  {
   "cell_type": "markdown",
   "metadata": {},
   "source": [
    "# Predicting Comment Score"
   ]
  },
  {
   "cell_type": "code",
   "execution_count": 13,
   "metadata": {
    "collapsed": false
   },
   "outputs": [],
   "source": [
    "import pandas as pd; import numpy as np; \n",
    "from scipy.sparse import csr_matrix\n",
    "import nltk\n",
    "import math; import time\n",
    "# import enchant; english_dict = enchant.Dict(\"en_US\")\n",
    "from nltk.corpus import stopwords\n",
    "from nltk.tokenize import RegexpTokenizer\n",
    "#from html.parser import HTMLParser\n",
    "from sklearn.cross_validation import StratifiedKFold\n",
    "from sklearn import linear_model\n",
    "from sklearn import metrics\n",
    "# from stemming.porter2 import stem\n",
    "from sklearn.feature_extraction.text import CountVectorizer\n",
    "from sklearn.feature_extraction.text import TfidfVectorizer\n",
    "vectorizer = CountVectorizer(analyzer = \"word\", tokenizer = None, preprocessor = None, \\\n",
    "                             stop_words = None, max_features = 5000) \n",
    "\n",
    "import seaborn\n",
    "import matplotlib\n",
    "from matplotlib import pyplot as plt\n",
    "#from matplotlib import pylab\n",
    "%matplotlib inline\n",
    "\n",
    "#%pylab inline\n",
    "#pylab.rcParams['figure.figsize'] = (20, 5)\n",
    "\n",
    "# Tsne\n",
    "from sklearn import manifold"
   ]
  },
  {
   "cell_type": "code",
   "execution_count": 14,
   "metadata": {
    "collapsed": false
   },
   "outputs": [],
   "source": [
    "font = {'weight' : 'normal',\n",
    "        'size'   : 22}\n",
    "\n",
    "axes = {'titlesize'  : 22,\n",
    "        'labelsize'  : 22}\n",
    "\n",
    "legend = {'fontsize'  : 22}\n",
    "\n",
    "figure = {'figsize'  : (10,5)}\n",
    "\n",
    "matplotlib.rc('font', **font)\n",
    "matplotlib.rc('axes', **axes)\n",
    "matplotlib.rc('legend', **legend)\n",
    "matplotlib.rc('figure', **figure)"
   ]
  },
  {
   "cell_type": "markdown",
   "metadata": {},
   "source": [
    "## 1 Data"
   ]
  },
  {
   "cell_type": "markdown",
   "metadata": {},
   "source": [
    "### 1.1 Import cleaned comments"
   ]
  },
  {
   "cell_type": "code",
   "execution_count": 15,
   "metadata": {
    "collapsed": false
   },
   "outputs": [
    {
     "name": "stdout",
     "output_type": "stream",
     "text": [
      "(533919, 5000)\n"
     ]
    }
   ],
   "source": [
    "from nba_data_types import load_nba\n",
    "(dft, s_BOW, s_TFI) = load_nba()"
   ]
  },
  {
   "cell_type": "markdown",
   "metadata": {},
   "source": [
    "## number of features to use???\n",
    "\n",
    "What values to use??\n",
    "occurred in too many documents (max_df): don't need to worry about this one!\n",
    "occurred in too few documents (min_df): \n",
    "were cut off by feature selection (max_features)\n",
    "\n"
   ]
  },
  {
   "cell_type": "code",
   "execution_count": 56,
   "metadata": {
    "collapsed": false
   },
   "outputs": [
    {
     "data": {
      "text/plain": [
       "(array([  5.08155000e+05,   2.49670000e+04,   5.85000000e+02,\n",
       "          1.27000000e+02,   5.40000000e+01,   2.00000000e+01,\n",
       "          6.00000000e+00,   2.00000000e+00,   2.00000000e+00,\n",
       "          1.00000000e+00]),\n",
       " array([ -457. ,    41.7,   540.4,  1039.1,  1537.8,  2036.5,  2535.2,\n",
       "         3033.9,  3532.6,  4031.3,  4530. ]),\n",
       " <a list of 10 Patch objects>)"
      ]
     },
     "execution_count": 56,
     "metadata": {},
     "output_type": "execute_result"
    },
    {
     "data": {
      "image/png": "[encoded data removed]",
      "text/plain": [
       "<matplotlib.figure.Figure at 0x13574a510>"
      ]
     },
     "metadata": {},
     "output_type": "display_data"
    }
   ],
   "source": [
    "plt.hist(dft['comment_score'])"
   ]
  },
  {
   "cell_type": "code",
   "execution_count": 57,
   "metadata": {
    "collapsed": false
   },
   "outputs": [
    {
     "data": {
      "text/plain": [
       "<matplotlib.text.Text at 0x113d91a90>"
      ]
     },
     "execution_count": 57,
     "metadata": {},
     "output_type": "execute_result"
    },
    {
     "data": {
      "image/png": "[encoded data removed]",
      "text/plain": [
       "<matplotlib.figure.Figure at 0x13a8afb50>"
      ]
     },
     "metadata": {},
     "output_type": "display_data"
    }
   ],
   "source": [
    "plt.hist(dft['comment_score'],21,range=[-10, 20])\n",
    "plt.title('Histogram of NBA Karma')\n",
    "plt.xlabel('Karma')\n",
    "plt.ylabel('Frequency')"
   ]
  },
  {
   "cell_type": "markdown",
   "metadata": {},
   "source": [
    "# Clustering"
   ]
  },
  {
   "cell_type": "markdown",
   "metadata": {},
   "source": [
    "## Regression"
   ]
  },
  {
   "cell_type": "markdown",
   "metadata": {},
   "source": [
    "1. Remove points [0, 3]\n",
    "3. Types of regressions\n",
    "\n",
    "Ridge, Lasso, RF regression, SVR, Linear\n",
    "CV\n",
    "\n",
    "Expect RF to be best b/c euclidian distance assumption doesn't work"
   ]
  },
  {
   "cell_type": "code",
   "execution_count": 139,
   "metadata": {
    "collapsed": false
   },
   "outputs": [],
   "source": [
    "from scipy.sparse.linalg import svds"
   ]
  },
  {
   "cell_type": "code",
   "execution_count": 175,
   "metadata": {
    "collapsed": false
   },
   "outputs": [],
   "source": [
    "# Remove points [0,3]\n",
    "REMOVE = False\n",
    "COMPRESS = True\n",
    "\n",
    "if REMOVE:\n",
    "    dft_small = dft[(dft['comment_score']<0) | (dft['comment_score']> 3)]\n",
    "    (ind,) = (np.where((dft['comment_score']<0) | (dft['comment_score']> 3)))\n",
    "    s_bow_small = s_BOW[ind,:]\n",
    "    s_tfi_small = s_TFI[ind,:]\n",
    "else:\n",
    "    dft_small = dft\n",
    "    s_bow_small = s_BOW\n",
    "    s_tfi_small = s_TFI\n",
    "    \n",
    "if COMPRESS:\n",
    "    d = 50\n",
    "    \n",
    "    U,S,V = svds(s_tfi_small.T,k=d,which='LM')\n",
    "    s_tfi_small = s_tfi_small.dot(U)"
   ]
  },
  {
   "cell_type": "code",
   "execution_count": 11,
   "metadata": {
    "collapsed": false
   },
   "outputs": [
    {
     "name": "stdout",
     "output_type": "stream",
     "text": [
      "(<class 'scipy.sparse.csr.csr_matrix'>, <class 'scipy.sparse.csr.csr_matrix'>)\n"
     ]
    }
   ],
   "source": [
    "print(type(s_bow_small), type(s_tfi_small))"
   ]
  },
  {
   "cell_type": "markdown",
   "metadata": {},
   "source": [
    "### Normalize by the score of the post\n",
    "\n",
    "not doing this!!"
   ]
  },
  {
   "cell_type": "code",
   "execution_count": 186,
   "metadata": {
    "collapsed": false
   },
   "outputs": [],
   "source": [
    "\n",
    "\n",
    "#s = np.copy(dft_small['score'])\n",
    "#s[s==0.0] = 0.1\n",
    "#a = np.divide(dft_small['comment_score'],s)\n",
    "#print(max(a), np.percentile(a,.25), np.percentile(a,.5), np.percentile(a,.75))\n",
    "\n"
   ]
  },
  {
   "cell_type": "code",
   "execution_count": 14,
   "metadata": {
    "collapsed": false
   },
   "outputs": [
    {
     "data": {
      "text/plain": [
       "<matplotlib.text.Text at 0x113767a50>"
      ]
     },
     "execution_count": 14,
     "metadata": {},
     "output_type": "execute_result"
    },
    {
     "data": {
      "image/png": "[encoded data removed]",
      "text/plain": [
       "<matplotlib.figure.Figure at 0x1125be410>"
      ]
     },
     "metadata": {},
     "output_type": "display_data"
    }
   ],
   "source": [
    "plt.hist(dft_small['comment_score'],bins=21,range=[-10, 20])\n",
    "if REMOVE:\n",
    "    plt.title('Histogram of NBA Karma without [0,3]')\n",
    "else:\n",
    "    plt.title('Histogram of NBA Karma')\n",
    "plt.xlabel('Karma')\n",
    "plt.ylabel('Frequency')"
   ]
  },
  {
   "cell_type": "markdown",
   "metadata": {},
   "source": [
    "## Regresssion"
   ]
  },
  {
   "cell_type": "code",
   "execution_count": 287,
   "metadata": {
    "collapsed": true
   },
   "outputs": [],
   "source": [
    "ltype = 'TFI'"
   ]
  },
  {
   "cell_type": "code",
   "execution_count": 187,
   "metadata": {
    "collapsed": false
   },
   "outputs": [],
   "source": [
    "scores = []\n",
    "for row in dft['comment_score']:\n",
    "    scores.append((row))\n",
    "    \n",
    "scores = np.array(scores)\n",
    "if REMOVE:\n",
    "    scores_small = scores[ind]\n",
    "else:\n",
    "    scores_small = scores\n",
    "\n",
    "# there are only 200 ~ score of 200 so set them all to 200\n",
    "scores_small[scores_small > 200] = 201\n",
    "scores_small[scores_small < -50] = -51"
   ]
  },
  {
   "cell_type": "code",
   "execution_count": 188,
   "metadata": {
    "collapsed": false
   },
   "outputs": [
    {
     "name": "stdout",
     "output_type": "stream",
     "text": [
      "(225821,)\n"
     ]
    }
   ],
   "source": [
    "print(scores_small.shape)"
   ]
  },
  {
   "cell_type": "code",
   "execution_count": 15,
   "metadata": {
    "collapsed": false
   },
   "outputs": [],
   "source": [
    "from scipy.sparse import hstack"
   ]
  },
  {
   "cell_type": "markdown",
   "metadata": {},
   "source": [
    "# Normalize variance\n",
    "for times"
   ]
  },
  {
   "cell_type": "code",
   "execution_count": 194,
   "metadata": {
    "collapsed": true
   },
   "outputs": [],
   "source": [
    "def norm_feature(train, test):\n",
    "    var = np.var(train)\n",
    "    mean = np.mean(train)\n",
    "    \n",
    "    train[np.isnan(train)] = 0\n",
    "    test[np.isnan(test)] = 0\n",
    "    \n",
    "    train = np.reshape((train-mean)/var, (len(train),1))\n",
    "    test = np.reshape((test-mean)/var,(len(test),1))\n",
    "    return(train, test, var, mean)"
   ]
  },
  {
   "cell_type": "code",
   "execution_count": null,
   "metadata": {
    "collapsed": true
   },
   "outputs": [],
   "source": [
    "# Dimensionality reduction on s_bow_small"
   ]
  },
  {
   "cell_type": "code",
   "execution_count": 195,
   "metadata": {
    "collapsed": false
   },
   "outputs": [
    {
     "name": "stdout",
     "output_type": "stream",
     "text": [
      "((22690, 5002), (203131, 5002))\n"
     ]
    }
   ],
   "source": [
    "k = 10\n",
    "skf = StratifiedKFold(scores_small,n_folds=k, shuffle=True)\n",
    "\n",
    "for train_i,test_i in skf:\n",
    "    if ltype == 'BOW':\n",
    "        X_val = s_bow_small[test_i,:]\n",
    "        X = s_bow_small[train_i,:]\n",
    "    elif ltype == 'TFI':\n",
    "        X_val = s_tfi_small[test_i,:]\n",
    "        X = s_tfi_small[train_i,:]\n",
    "    \n",
    "    time_ind_val = dft['timedifference'][test_i]\n",
    "    time_ind = dft['timedifference'][train_i]\n",
    "    score_ind_val = dft['score'][test_i]\n",
    "    score_ind = dft['score'][train_i]\n",
    "        \n",
    "    Y_val = scores_small[test_i]\n",
    "    Y = scores_small[train_i]\n",
    "    break;\n",
    "    \n",
    "(score_ind, score_ind_val,_,_) = norm_feature(score_ind, score_ind_val)\n",
    "(time_ind, time_ind_val,_,_) = norm_feature(time_ind, time_ind_val)\n",
    "\n",
    "\n",
    "X_val = csr_matrix(hstack((X_val, time_ind_val,score_ind_val)))\n",
    "X = csr_matrix(hstack((X, time_ind,score_ind)))\n",
    "print(X_val.shape, X.shape)"
   ]
  },
  {
   "cell_type": "markdown",
   "metadata": {},
   "source": [
    "# MAKE SMALL DATASET FOR NOW!!!"
   ]
  },
  {
   "cell_type": "code",
   "execution_count": 196,
   "metadata": {
    "collapsed": false
   },
   "outputs": [],
   "source": [
    "X = X_val\n",
    "Y = Y_val"
   ]
  },
  {
   "cell_type": "code",
   "execution_count": 84,
   "metadata": {
    "collapsed": true
   },
   "outputs": [],
   "source": [
    "from sklearn import linear_model\n",
    "from sklearn import tree\n",
    "from sklearn import svm\n",
    "from sklearn import kernel_ridge\n",
    "from sklearn import ensemble"
   ]
  },
  {
   "cell_type": "code",
   "execution_count": null,
   "metadata": {
    "collapsed": false
   },
   "outputs": [],
   "source": [
    "# Ridge, Lasso, RF regression, SVR, Linear\n",
    "models = {#\"Linear\":linear_model.LinearRegression(normalize=True),\n",
    "          #\"Ridge\": linear_model.Ridge(alpha = 0.5, fit_intercept=True, normalize=True),\n",
    "          \"LassoCV\": linear_model.Lasso(alpha = 0.5,fit_intercept=True, normalize=True,\n",
    "                                      selection='random',max_iter=1000), \n",
    "          \"SVR\": svm.LinearSVR(),\n",
    "          #\"Gradesc\": linear_model.SGDRegressor(penalty=\"l1\",n_iter=15),\n",
    "          \"DTree\": tree.DecisionTreeRegressor(max_depth=40), \n",
    "          \"RF\": ensemble.RandomForestRegressor(max_depth=40,n_estimators=16)\n",
    "          #\"B.Ridge\": linear_model.BayesianRidge(),\n",
    "          #\"ABoost\": ensemble.AdaBoostRegressor(),\n",
    "          }\n",
    "\n",
    "k = 10\n",
    "skf = StratifiedKFold(Y,n_folds=k, shuffle=True)\n",
    "\n",
    "mse = {}\n",
    "runtimes = {}\n",
    "for name in models.keys():\n",
    "    mse[name] = np.empty((k,))\n",
    "    runtimes[name] = np.empty((k,))\n",
    "\n",
    "i = 0\n",
    "alphas = np.linspace(0.005,.4,5)\n",
    "print('Trial\\t\\t'+'\\t\\t'.join(models.keys()))\n",
    "\n",
    "\n",
    "for train_i, test_i in skf:\n",
    "\n",
    "    print(i)\n",
    "    \n",
    "    X_train, X_test = X[train_i,:],X[test_i,:]\n",
    "    Y_train, Y_test = Y[train_i], Y[test_i]\n",
    "        \n",
    "    for name,model in models.iteritems():\n",
    "        start_time = time.time()\n",
    "        \n",
    "        if name == 'Lasso' or name == 'Ridge':\n",
    "            print('alpha = %1.3f' % alphas[i])\n",
    "            model.set_params(alpha = alphas[i])\n",
    "                \n",
    "        if name == 'LassoCV' or name == 'RidgeCV':\n",
    "            cv_mse = np.empty((len(alphas),))\n",
    "            for a_i,a in enumerate(alphas):\n",
    "                model.set_params(alpha = a)\n",
    "                fitted_model = model.fit(X_train,Y_train)\n",
    "                Y_pred = fitted_model.predict(X_test)\n",
    "                cv_mse[a_i] = metrics.mean_squared_error(Y_test, Y_pred)\n",
    "            min_i = np.where(cv_mse==min(cv_mse))[0][0]\n",
    "            print(name + (' alpha = %1.3f' % alphas[min_i]))\n",
    "            model.set_params(alpha=alphas[min_i])\n",
    "        \n",
    "        fitted_model = model.fit(X_train, Y_train)            \n",
    "\n",
    "        Y_pred = fitted_model.predict(X_test)\n",
    "        tim = time.time() - start_time\n",
    "        runtimes[name][i] = tim\n",
    "        mse[name][i] = metrics.mean_squared_error(Y_test, Y_pred)\n",
    "    \n",
    "\n",
    "    mse_print = 'MSE\\t\\t'\n",
    "    time_print = 'Time\\t\\t'\n",
    "    for name in models.keys():\n",
    "        mse_print = mse_print + format('%1.3f'%mse[name][i])+\"\\t\" \n",
    "        time_print = time_print + format('%1.3f'%runtimes[name][i]) + \"\\t\\t\"\n",
    "    print(mse_print)\n",
    "    print(time_print)\n",
    "    i = i+1\n",
    "    \n",
    "    "
   ]
  },
  {
   "cell_type": "code",
   "execution_count": null,
   "metadata": {
    "collapsed": false
   },
   "outputs": [],
   "source": [
    "for name in models.keys():\n",
    "    plt.plot(mse[name],label=name)\n",
    "plt.title('MSE')\n",
    "plt.xlabel('Index')\n",
    "plt.ylabel('MSE')\n",
    "plt.ylim([0,4])\n",
    "plt.legend()"
   ]
  },
  {
   "cell_type": "markdown",
   "metadata": {},
   "source": [
    "## Take a look at a specific one"
   ]
  },
  {
   "cell_type": "code",
   "execution_count": 218,
   "metadata": {
    "collapsed": false
   },
   "outputs": [
    {
     "data": {
      "text/plain": [
       "[<matplotlib.lines.Line2D at 0x1275408d0>]"
      ]
     },
     "execution_count": 218,
     "metadata": {},
     "output_type": "execute_result"
    },
    {
     "data": {
      "image/png": "[encoded data removed]",
      "text/plain": [
       "<matplotlib.figure.Figure at 0x12b431910>"
      ]
     },
     "metadata": {},
     "output_type": "display_data"
    }
   ],
   "source": [
    "for train_i, test_i in skf:\n",
    "    X_train, X_test = X[train_i,:],X[test_i,:]\n",
    "    Y_train, Y_test = Y[train_i], Y[test_i]\n",
    "    \n",
    "    model = linear_model.Lasso(alpha=0.261, fit_intercept=True, normalize=True,\n",
    "                                          selection='random',max_iter=1000)\n",
    "    fitted_model = model.fit(X_train, Y_train)\n",
    "    Y_pred = fitted_model.predict(X_test)\n",
    "    break\n",
    "plt.plot(Y_test)\n",
    "plt.plot(Y_pred)"
   ]
  },
  {
   "cell_type": "code",
   "execution_count": 219,
   "metadata": {
    "collapsed": false
   },
   "outputs": [
    {
     "name": "stdout",
     "output_type": "stream",
     "text": [
      "(18.994546258536825, 18.994546258536825, 18.994546258536825)\n"
     ]
    }
   ],
   "source": [
    "print(np.percentile(Y_pred,.25),np.percentile(Y_pred,.5),np.percentile(Y_pred,.75))"
   ]
  },
  {
   "cell_type": "markdown",
   "metadata": {},
   "source": [
    "# Classification"
   ]
  },
  {
   "cell_type": "markdown",
   "metadata": {},
   "source": [
    "Note: we will set the following boundaries according to score:\n",
    "\n",
    "Bad: <= 0\n",
    "\n",
    "Neutral: 1\n",
    "\n",
    "Good: 2, 3, 4\n",
    "\n",
    "Very Good: >= 5"
   ]
  },
  {
   "cell_type": "code",
   "execution_count": 177,
   "metadata": {
    "collapsed": false
   },
   "outputs": [],
   "source": [
    "# categorize each comment by score\n",
    "def categorize(score):\n",
    "    if score<=-5:\n",
    "        return -2\n",
    "    elif score>-5 and score < -1:\n",
    "        return -1\n",
    "    elif score >= -1 and score <= 2:\n",
    "        return 0\n",
    "    elif score >= 2 and score < 10:\n",
    "        return 1\n",
    "    elif score >= 10:# and score <=100:\n",
    "        return 2\n",
    "#    else:\n",
    "#        return 3"
   ]
  },
  {
   "cell_type": "code",
   "execution_count": 178,
   "metadata": {
    "collapsed": true
   },
   "outputs": [],
   "source": [
    "ltype = 'TFI'"
   ]
  },
  {
   "cell_type": "code",
   "execution_count": 179,
   "metadata": {
    "collapsed": false
   },
   "outputs": [],
   "source": [
    "labels = []\n",
    "for row in dft['comment_score']:\n",
    "    labels.append(categorize(row))\n",
    "labels = np.array(labels)\n",
    "if REMOVE:\n",
    "    labels_small = labels[ind]\n",
    "else:\n",
    "    labels_small = labels"
   ]
  },
  {
   "cell_type": "code",
   "execution_count": 180,
   "metadata": {
    "collapsed": true
   },
   "outputs": [],
   "source": [
    "def norm_class_feature(train, test):\n",
    "    \"\"\"Noramlization of a feature for classifiers\n",
    "    Features must be non negative!\"\"\"\n",
    "    #var = np.var(train)\n",
    "    #mean = np.mean(train)\n",
    "    \n",
    "    train[np.isnan(train)] = 0\n",
    "    test[np.isnan(test)] = 0\n",
    "    \n",
    "    #train = (train-mean)/var\n",
    "    #train = (train-min(train))/(max(train)-min(train))\n",
    "    #test = (test-mean)/var\n",
    "    #test = (test-min(test))/(max(test)-min(test))\n",
    "    \n",
    "    train = np.reshape(train, (len(train),1))\n",
    "    test = np.reshape(test,(len(test),1))\n",
    "    return(train, test)#, var, mean)"
   ]
  },
  {
   "cell_type": "code",
   "execution_count": 185,
   "metadata": {
    "collapsed": true
   },
   "outputs": [],
   "source": [
    "from scipy.sparse import hstack"
   ]
  },
  {
   "cell_type": "code",
   "execution_count": 191,
   "metadata": {
    "collapsed": false
   },
   "outputs": [
    {
     "name": "stdout",
     "output_type": "stream",
     "text": [
      "((53375, 52), (480347, 52))\n"
     ]
    }
   ],
   "source": [
    "k = 10\n",
    "skf = StratifiedKFold(labels_small,n_folds=k, shuffle=True)\n",
    "\n",
    "for train_i,test_i in skf:\n",
    "    if ltype == 'BOW':\n",
    "        X_val = s_bow_small[test_i,:]\n",
    "        X = s_bow_small[train_i,:]\n",
    "    elif ltype == 'TFI':\n",
    "        X_val = s_tfi_small[test_i,:]\n",
    "        X = s_tfi_small[train_i,:]\n",
    "    \n",
    "    time_ind_val = dft['timedifference'][test_i]\n",
    "    time_ind = dft['timedifference'][train_i]\n",
    "    score_ind_val = dft['score'][test_i]\n",
    "    score_ind = dft['score'][train_i]\n",
    "        \n",
    "    Y_val = labels_small[test_i]\n",
    "    Y = labels_small[train_i]\n",
    "    break;\n",
    "    \n",
    "(score_ind, score_ind_val) = norm_class_feature(score_ind, score_ind_val)\n",
    "(time_ind, time_ind_val) = norm_class_feature(time_ind, time_ind_val)\n",
    "\n",
    "\n",
    "X_val = csr_matrix(np.concatenate((X_val, time_ind_val,score_ind_val),axis=1))\n",
    "X = csr_matrix(np.concatenate((X, time_ind,score_ind),axis=1))\n",
    "print(X_val.shape, X.shape)"
   ]
  },
  {
   "cell_type": "code",
   "execution_count": 193,
   "metadata": {
    "collapsed": false
   },
   "outputs": [],
   "source": [
    "# TAKE 10% OF DATA!!!\n",
    "X = X_val\n",
    "Y = Y_val\n",
    "\n",
    "# Take an equal amount from each section\n",
    "\n",
    "ind = np.array([])\n",
    "for i in range(-2,3):\n",
    "    ind = np.concatenate((ind,np.random.choice(np.where(Y==i)[0], size = 10000)))\n",
    "    ind = [int(x) for x in ind]\n",
    "\n",
    "X = X[ind,:]\n",
    "Y = Y[ind]"
   ]
  },
  {
   "cell_type": "code",
   "execution_count": 194,
   "metadata": {
    "collapsed": false
   },
   "outputs": [
    {
     "name": "stdout",
     "output_type": "stream",
     "text": [
      "(0, 10000, 10000, 10000, 10000, 10000)\n"
     ]
    }
   ],
   "source": [
    "print(sum([Y==3][0]), sum([Y==2][0]), sum([Y==1][0]),sum([Y==0][0]),sum([Y==-1][0]), sum([Y==-2][0]))"
   ]
  },
  {
   "cell_type": "code",
   "execution_count": 195,
   "metadata": {
    "collapsed": true
   },
   "outputs": [],
   "source": [
    "from sklearn.naive_bayes import MultinomialNB\n",
    "from sklearn.neighbors import KNeighborsClassifier\n",
    "from sklearn.svm import LinearSVC\n",
    "from sklearn.tree import DecisionTreeClassifier\n",
    "from sklearn.ensemble import RandomForestClassifier\n",
    "from sklearn.linear_model import LogisticRegression"
   ]
  },
  {
   "cell_type": "code",
   "execution_count": 198,
   "metadata": {
    "collapsed": false
   },
   "outputs": [],
   "source": [
    "nNeighbors = 10 #KNN\n",
    "maxLearners = 100 #RF\n",
    "maxDepth = 10 #RF\n",
    "models = {#\"MNB\": MultinomialNB(),\n",
    "#           \"KNN\": KNeighborsClassifier(n_neighbors=nNeighbors), \n",
    "          #\"LSV\": LinearSVC(), \n",
    "          #\"DFT\": DecisionTreeClassifier(), \n",
    "          #\"RFC\": RandomForestClassifier(n_estimators=maxLearners, max_depth = maxDepth, warm_start = False), \n",
    "          \"LOR\": LogisticRegression(),\n",
    "          }"
   ]
  },
  {
   "cell_type": "code",
   "execution_count": 199,
   "metadata": {
    "collapsed": false
   },
   "outputs": [
    {
     "name": "stdout",
     "output_type": "stream",
     "text": [
      "Trial\t\tLOR\n",
      "0\n",
      "AC\t\t0.200\n",
      "F1\t\t0.114\n",
      "Prec\t\t0.117\n",
      "Recall\t\t0.200\n",
      "Time\t\t1.226\n",
      "1\n",
      "AC\t\t0.193\n",
      "F1\t\t0.118\n",
      "Prec\t\t0.118\n",
      "Recall\t\t0.193\n",
      "Time\t\t1.075\n",
      "2\n",
      "AC\t\t0.204\n",
      "F1\t\t0.099\n",
      "Prec\t\t0.106\n",
      "Recall\t\t0.204\n",
      "Time\t\t1.111\n",
      "3\n",
      "AC\t\t0.200\n",
      "F1\t\t0.099\n",
      "Prec\t\t0.078\n",
      "Recall\t\t0.200\n",
      "Time\t\t1.082\n",
      "4\n",
      "AC\t\t0.200\n",
      "F1\t\t0.104\n",
      "Prec\t\t0.117\n",
      "Recall\t\t0.200\n",
      "Time\t\t1.105\n",
      "5\n",
      "AC\t\t0.203\n",
      "F1\t\t0.143\n",
      "Prec\t\t0.123\n",
      "Recall\t\t0.203\n",
      "Time\t\t1.072\n",
      "6\n",
      "AC\t\t0.197\n",
      "F1\t\t0.115\n",
      "Prec\t\t0.116\n",
      "Recall\t\t0.197\n",
      "Time\t\t1.071\n",
      "7\n",
      "AC\t\t0.192\n",
      "F1\t\t0.134\n",
      "Prec\t\t0.114\n",
      "Recall\t\t0.192\n",
      "Time\t\t1.056\n",
      "8\n",
      "AC\t\t0.202\n",
      "F1\t\t0.101\n",
      "Prec\t\t0.082\n",
      "Recall\t\t0.202\n",
      "Time\t\t1.081\n",
      "9\n",
      "AC\t\t0.194\n",
      "F1\t\t0.095\n",
      "Prec\t\t0.075\n",
      "Recall\t\t0.194\n",
      "Time\t\t1.208\n"
     ]
    }
   ],
   "source": [
    "k = 10\n",
    "skf = StratifiedKFold(Y,n_folds=k, shuffle=True)\n",
    "\n",
    "#nNeighbors = np.range(3,20,)\n",
    "\n",
    "accuracies = {}\n",
    "f1scores = {}\n",
    "precisions = {}\n",
    "recalls = {}\n",
    "runtimes = {}\n",
    "for name in models.keys():\n",
    "    accuracies[name] = np.empty((k,))\n",
    "    f1scores[name] = np.empty((k,))\n",
    "    precisions[name] = np.empty((k,))\n",
    "    recalls[name] = np.empty((k,))\n",
    "    runtimes[name] = np.empty((k,))\n",
    "    \n",
    "print('Trial\\t\\t'+'\\t\\t'.join(models.keys()))\n",
    "\n",
    "i = 0\n",
    "\n",
    "for train_i, test_i in skf:\n",
    "    print(i)\n",
    "    X_train, X_test = X[train_i,:],X[test_i,:]\n",
    "    Y_train, Y_test = Y[train_i], Y[test_i]\n",
    "        \n",
    "    for name,model in models.iteritems():\n",
    "        start_time = time.time()\n",
    "        \n",
    "#        if name == 'KNN':\n",
    "\n",
    "#            model.n_neighbors = \n",
    "        fitted_model = model.fit(X_train, Y_train)\n",
    "        Y_pred = fitted_model.predict(X_test)\n",
    "        tim = time.time() - start_time\n",
    "        \n",
    "        accuracies[name][i] = metrics.accuracy_score(Y_test, Y_pred)\n",
    "        f1scores[name][i] = metrics.f1_score(Y_test, Y_pred,average='weighted')\n",
    "        precisions[name][i] = metrics.precision_score(Y_test, Y_pred,average='weighted')\n",
    "        recalls[name][i] = metrics.recall_score(Y_test, Y_pred,average='weighted')\n",
    "        runtimes[name][i] = tim\n",
    "    \n",
    "    ac_print = 'AC'\n",
    "    f1scores_print = 'F1'\n",
    "    precisions_print = 'Prec'\n",
    "    recalls_print = 'Recall'\n",
    "    time_print = 'Time'\n",
    "    for name in models.keys():\n",
    "        ac_print = ac_print + \"\\t\\t\" + format('%1.3f'%accuracies[name][i])\n",
    "        f1scores_print = f1scores_print + \"\\t\\t\" + format('%1.3f'%f1scores[name][i])\n",
    "        precisions_print = precisions_print + \"\\t\\t\" + format('%1.3f'%precisions[name][i])\n",
    "        recalls_print = recalls_print + \"\\t\\t\" + format('%1.3f'%recalls[name][i])\n",
    "        time_print = time_print + \"\\t\\t\" + format('%1.3f'%runtimes[name][i])\n",
    "    print(ac_print)\n",
    "    print(f1scores_print)\n",
    "    print(precisions_print)\n",
    "    print(recalls_print)\n",
    "    print(time_print)\n",
    "    \n",
    "    i = i+1\n"
   ]
  },
  {
   "cell_type": "code",
   "execution_count": 125,
   "metadata": {
    "collapsed": false
   },
   "outputs": [
    {
     "name": "stdout",
     "output_type": "stream",
     "text": [
      "Means\n",
      "LOR AC 0.206\tF1: 0.114\tPrecision: 0.092\tRecall: 0.206\t Time: 0.058\t\n",
      "MNB AC 0.206\tF1: 0.141\tPrecision: 0.240\tRecall: 0.206\t Time: 0.002\t\n"
     ]
    }
   ],
   "source": [
    "print('Means')\n",
    "for name in models.keys():\n",
    "    print(name+(' AC %1.3f\\tF1: %1.3f\\tPrecision: %1.3f\\tRecall: %1.3f\\t Time: %1.3f\\t'\n",
    "          %(np.mean(accuracies[name]),np.mean(f1scores[name]),np.mean(precisions[name]),\n",
    "            np.mean(recalls[name]),np.mean(runtimes[name]))))"
   ]
  },
  {
   "cell_type": "code",
   "execution_count": null,
   "metadata": {
    "collapsed": true
   },
   "outputs": [],
   "source": [
    "from sklearn import svm, datasets\n",
    "from sklearn.cross_validation import train_test_split\n",
    "from sklearn.metrics import confusion_matrix\n",
    "\n",
    "# import some data to play with\n",
    "iris = datasets.load_iris()\n",
    "X = iris.data\n",
    "y = iris.target\n",
    "\n",
    "# Split the data into a training set and a test set\n",
    "X_train, X_test, y_train, y_test = train_test_split(X, y, random_state=0)\n",
    "\n",
    "# Run classifier, using a model that is too regularized (C too low) to see\n",
    "# the impact on the results\n",
    "classifier = svm.SVC(kernel='linear', C=0.01)\n",
    "y_pred = classifier.fit(X_train, y_train).predict(X_test)\n",
    "\n",
    "\n",
    "def plot_confusion_matrix(cm, title='Confusion matrix', cmap=plt.cm.Blues):\n",
    "    plt.imshow(cm, interpolation='nearest', cmap=cmap)\n",
    "    plt.title(title)\n",
    "    plt.colorbar()\n",
    "    tick_marks = np.arange(len(iris.target_names))\n",
    "    plt.xticks(tick_marks, iris.target_names, rotation=45)\n",
    "    plt.yticks(tick_marks, iris.target_names)\n",
    "    plt.tight_layout()\n",
    "    plt.ylabel('True label')\n",
    "    plt.xlabel('Predicted label')\n",
    "\n",
    "\n",
    "# Compute confusion matrix\n",
    "cm = confusion_matrix(y_test, y_pred)\n",
    "np.set_printoptions(precision=2)\n",
    "print('Confusion matrix, without normalization')\n",
    "print(cm)\n",
    "plt.figure()\n",
    "plot_confusion_matrix(cm)\n",
    "\n",
    "# Normalize the confusion matrix by row (i.e by the number of samples\n",
    "# in each class)\n",
    "cm_normalized = cm.astype('float') / cm.sum(axis=1)[:, np.newaxis]\n",
    "print('Normalized confusion matrix')\n",
    "print(cm_normalized)\n",
    "plt.figure()\n",
    "plot_confusion_matrix(cm_normalized, title='Normalized confusion matrix')\n",
    "\n",
    "plt.show()"
   ]
  }
 ],
 "metadata": {
  "kernelspec": {
   "display_name": "Python 2",
   "language": "python",
   "name": "python2"
  },
  "language_info": {
   "codemirror_mode": {
    "name": "ipython",
    "version": 2
   },
   "file_extension": ".py",
   "mimetype": "text/x-python",
   "name": "python",
   "nbconvert_exporter": "python",
   "pygments_lexer": "ipython2",
   "version": "2.7.11"
  }
 },
 "nbformat": 4,
 "nbformat_minor": 0
}
